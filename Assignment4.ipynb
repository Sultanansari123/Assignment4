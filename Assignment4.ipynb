{
 "cells": [
  {
   "cell_type": "code",
   "execution_count": 3,
   "id": "bf0a7628-3e51-4b00-a59d-202a55b6e50e",
   "metadata": {},
   "outputs": [
    {
     "name": "stdout",
     "output_type": "stream",
     "text": [
      "[('Virat Kohli', 24936), ('Jack Kallis', 25535), ('Ricky Ponting', 27483), ('Sacin Tendulkar', 34357)]\n"
     ]
    }
   ],
   "source": [
    "#Ans1->sort based on integet using a lambda function\n",
    "a=[('Sacin Tendulkar',34357),('Ricky Ponting',27483),('Jack Kallis',25535),('Virat Kohli',24936)]\n",
    "b=sorted(a,key=lambda a:a[1])\n",
    "print(b)"
   ]
  },
  {
   "cell_type": "code",
   "execution_count": 6,
   "id": "58cada4e-2ef1-490d-bbc9-27f3542e50ab",
   "metadata": {},
   "outputs": [
    {
     "name": "stdout",
     "output_type": "stream",
     "text": [
      "[1, 4, 9, 16, 25, 44.89, 64, 81, 100]\n"
     ]
    }
   ],
   "source": [
    "#Ans2->square number using map and lambda function\n",
    "l=[1,2,3,4,5,6.7,8,9,10]\n",
    "new_l=(list(map(lambda x:x**2,l)))\n",
    "print(new_l)"
   ]
  },
  {
   "cell_type": "code",
   "execution_count": 7,
   "id": "c2a50aa9-a01d-42ed-825c-ac8e5571fca5",
   "metadata": {},
   "outputs": [
    {
     "name": "stdout",
     "output_type": "stream",
     "text": [
      "('1', '2', '3', '4', '5', '6', '7', '8', '9', '10')\n"
     ]
    }
   ],
   "source": [
    "#Ans3)>convert the given list of integer  into tuple using map and lambda function\n",
    "list_of_int =[1,2,3,4,5,6,7,8,9,10]\n",
    "tuple_of_str=tuple(map(lambda x:str(x),list_of_int))\n",
    "print(tuple_of_str)"
   ]
  },
  {
   "cell_type": "code",
   "execution_count": 15,
   "id": "3ab604ed-720a-4f2b-8551-e7d50a998ba1",
   "metadata": {},
   "outputs": [
    {
     "name": "stdout",
     "output_type": "stream",
     "text": [
      "Product= 15511210043330985984000000\n"
     ]
    }
   ],
   "source": [
    "#Ans4-> product of list using reduce function\n",
    "from functools import reduce\n",
    "l=[x for x in range(1,26)]\n",
    "product=reduce(lambda x,y:x*y,l)\n",
    "print(\"Product=\",product)"
   ]
  },
  {
   "cell_type": "code",
   "execution_count": 37,
   "id": "f9280b94-fb16-4699-bc7e-fcf323c21a2b",
   "metadata": {},
   "outputs": [
    {
     "name": "stdout",
     "output_type": "stream",
     "text": [
      "[6, 60, 90, 120]\n"
     ]
    }
   ],
   "source": [
    "#Ans5-> find using filter function list that are divisible by 2 and 3 numbers\n",
    "def divisible(x):\n",
    "    return x%2==0 and x%3==0\n",
    "l=[2,3,6,9,27,60,90,120,55,46]\n",
    "ans=list(filter(divisible,l))\n",
    "print(ans)"
   ]
  },
  {
   "cell_type": "code",
   "execution_count": 8,
   "id": "4311804a-9c03-4b8f-ae6f-ef7a88db0a02",
   "metadata": {},
   "outputs": [
    {
     "ename": "TypeError",
     "evalue": "reversed expected 1 argument, got 0",
     "output_type": "error",
     "traceback": [
      "\u001b[0;31m---------------------------------------------------------------------------\u001b[0m",
      "\u001b[0;31mTypeError\u001b[0m                                 Traceback (most recent call last)",
      "Cell \u001b[0;32mIn[8], line 4\u001b[0m\n\u001b[1;32m      2\u001b[0m texts\u001b[38;5;241m=\u001b[39m[\u001b[38;5;124m\"\u001b[39m\u001b[38;5;124mpython\u001b[39m\u001b[38;5;124m\"\u001b[39m,\u001b[38;5;124m\"\u001b[39m\u001b[38;5;124mphp\u001b[39m\u001b[38;5;124m\"\u001b[39m,\u001b[38;5;124m\"\u001b[39m\u001b[38;5;124maba\u001b[39m\u001b[38;5;124m\"\u001b[39m,\u001b[38;5;124m\"\u001b[39m\u001b[38;5;124mradar\u001b[39m\u001b[38;5;124m\"\u001b[39m,\u001b[38;5;124m\"\u001b[39m\u001b[38;5;124mlevel\u001b[39m\u001b[38;5;124m\"\u001b[39m]\n\u001b[1;32m      3\u001b[0m result\u001b[38;5;241m=\u001b[39m\u001b[38;5;28mfilter\u001b[39m(\u001b[38;5;28;01mlambda\u001b[39;00m x: (x\u001b[38;5;241m==\u001b[39m\u001b[38;5;124m\"\u001b[39m\u001b[38;5;124m\"\u001b[39m\u001b[38;5;241m.\u001b[39mjoin(\u001b[38;5;28mreversed\u001b[39m())), texts)\n\u001b[0;32m----> 4\u001b[0m \u001b[38;5;28mprint\u001b[39m(\u001b[38;5;28;43mlist\u001b[39;49m\u001b[43m(\u001b[49m\u001b[43mresult\u001b[49m\u001b[43m)\u001b[49m)\n",
      "Cell \u001b[0;32mIn[8], line 3\u001b[0m, in \u001b[0;36m<lambda>\u001b[0;34m(x)\u001b[0m\n\u001b[1;32m      1\u001b[0m \u001b[38;5;66;03m#Ans6-> write a programe to find a given palindrome using lambda and filter function  \u001b[39;00m\n\u001b[1;32m      2\u001b[0m texts\u001b[38;5;241m=\u001b[39m[\u001b[38;5;124m\"\u001b[39m\u001b[38;5;124mpython\u001b[39m\u001b[38;5;124m\"\u001b[39m,\u001b[38;5;124m\"\u001b[39m\u001b[38;5;124mphp\u001b[39m\u001b[38;5;124m\"\u001b[39m,\u001b[38;5;124m\"\u001b[39m\u001b[38;5;124maba\u001b[39m\u001b[38;5;124m\"\u001b[39m,\u001b[38;5;124m\"\u001b[39m\u001b[38;5;124mradar\u001b[39m\u001b[38;5;124m\"\u001b[39m,\u001b[38;5;124m\"\u001b[39m\u001b[38;5;124mlevel\u001b[39m\u001b[38;5;124m\"\u001b[39m]\n\u001b[0;32m----> 3\u001b[0m result\u001b[38;5;241m=\u001b[39m\u001b[38;5;28mfilter\u001b[39m(\u001b[38;5;28;01mlambda\u001b[39;00m x: (x\u001b[38;5;241m==\u001b[39m\u001b[38;5;124m\"\u001b[39m\u001b[38;5;124m\"\u001b[39m\u001b[38;5;241m.\u001b[39mjoin(\u001b[38;5;28;43mreversed\u001b[39;49m\u001b[43m(\u001b[49m\u001b[43m)\u001b[49m)), texts)\n\u001b[1;32m      4\u001b[0m \u001b[38;5;28mprint\u001b[39m(\u001b[38;5;28mlist\u001b[39m(result))\n",
      "\u001b[0;31mTypeError\u001b[0m: reversed expected 1 argument, got 0"
     ]
    }
   ],
   "source": [
    "#Ans6-> write a programe to find a given palindrome using lambda and filter function  \n",
    "texts=[\"python\",\"php\",\"aba\",\"radar\",\"level\"]\n",
    "result=filter(lambda x: (x==\"\".join(reversed())), texts)\n",
    "print(list(result))"
   ]
  },
  {
   "cell_type": "code",
   "execution_count": null,
   "id": "8f1375fd-0b20-4bd9-8702-e9cc3db4500e",
   "metadata": {},
   "outputs": [],
   "source": []
  }
 ],
 "metadata": {
  "kernelspec": {
   "display_name": "Python 3 (ipykernel)",
   "language": "python",
   "name": "python3"
  },
  "language_info": {
   "codemirror_mode": {
    "name": "ipython",
    "version": 3
   },
   "file_extension": ".py",
   "mimetype": "text/x-python",
   "name": "python",
   "nbconvert_exporter": "python",
   "pygments_lexer": "ipython3",
   "version": "3.10.8"
  }
 },
 "nbformat": 4,
 "nbformat_minor": 5
}
